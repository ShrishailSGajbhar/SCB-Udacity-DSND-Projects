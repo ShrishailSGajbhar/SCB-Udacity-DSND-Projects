{
 "cells": [
  {
   "cell_type": "code",
   "execution_count": 45,
   "id": "3fa7e5ac-b9b8-48c0-b918-c73c3f8bb648",
   "metadata": {
    "execution": {
     "iopub.execute_input": "2022-05-23T18:53:12.200871Z",
     "iopub.status.busy": "2022-05-23T18:53:12.200584Z",
     "iopub.status.idle": "2022-05-23T18:53:12.434057Z",
     "shell.execute_reply": "2022-05-23T18:53:12.433075Z",
     "shell.execute_reply.started": "2022-05-23T18:53:12.200839Z"
    },
    "tags": []
   },
   "outputs": [
    {
     "data": {
      "application/vnd.jupyter.widget-view+json": {
       "model_id": "3a293e79e71d42a78c799910662efc2c",
       "version_major": 2,
       "version_minor": 0
      },
      "text/plain": [
       "VBox()"
      ]
     },
     "metadata": {},
     "output_type": "display_data"
    },
    {
     "data": {
      "application/vnd.jupyter.widget-view+json": {
       "model_id": "",
       "version_major": 2,
       "version_minor": 0
      },
      "text/plain": [
       "FloatProgress(value=0.0, bar_style='info', description='Progress:', layout=Layout(height='25px', width='50%'),…"
      ]
     },
     "metadata": {},
     "output_type": "display_data"
    }
   ],
   "source": [
    "import configparser\n",
    "from datetime import datetime\n",
    "import os\n",
    "from pyspark.sql import SparkSession\n",
    "from pyspark.sql.functions import udf, col\n",
    "from pyspark.sql.functions import year, month, dayofmonth, hour, weekofyear, dayofweek\n",
    "from pyspark.sql.types import IntegerType, TimestampType as Ts\n",
    "from pyspark.sql.functions import monotonically_increasing_id"
   ]
  },
  {
   "cell_type": "code",
   "execution_count": 2,
   "id": "26e6516e-e2ae-4b5b-bd5a-75f13089d440",
   "metadata": {
    "execution": {
     "iopub.execute_input": "2022-05-23T18:22:43.225527Z",
     "iopub.status.busy": "2022-05-23T18:22:43.225150Z",
     "iopub.status.idle": "2022-05-23T18:22:44.731691Z",
     "shell.execute_reply": "2022-05-23T18:22:44.730999Z",
     "shell.execute_reply.started": "2022-05-23T18:22:43.225492Z"
    },
    "tags": []
   },
   "outputs": [
    {
     "data": {
      "application/vnd.jupyter.widget-view+json": {
       "model_id": "6c38f1947a0f4fbd9bfe125431ab0cd0",
       "version_major": 2,
       "version_minor": 0
      },
      "text/plain": [
       "VBox()"
      ]
     },
     "metadata": {},
     "output_type": "display_data"
    },
    {
     "data": {
      "application/vnd.jupyter.widget-view+json": {
       "model_id": "",
       "version_major": 2,
       "version_minor": 0
      },
      "text/plain": [
       "FloatProgress(value=0.0, bar_style='info', description='Progress:', layout=Layout(height='25px', width='50%'),…"
      ]
     },
     "metadata": {},
     "output_type": "display_data"
    }
   ],
   "source": [
    "# Creating the Spark session\n",
    "spark = SparkSession \\\n",
    "    .builder \\\n",
    "    .config('spark.jars.packages', 'org.apache.hadoop:hadoop-aws:2.7.0') \\\n",
    "    .getOrCreate()"
   ]
  },
  {
   "cell_type": "code",
   "execution_count": 3,
   "id": "04dfacae-9761-48d0-8dfc-c3395f88d99c",
   "metadata": {
    "execution": {
     "iopub.execute_input": "2022-05-23T18:22:54.802042Z",
     "iopub.status.busy": "2022-05-23T18:22:54.801793Z",
     "iopub.status.idle": "2022-05-23T18:22:54.979366Z",
     "shell.execute_reply": "2022-05-23T18:22:54.978638Z",
     "shell.execute_reply.started": "2022-05-23T18:22:54.802013Z"
    },
    "tags": []
   },
   "outputs": [
    {
     "data": {
      "application/vnd.jupyter.widget-view+json": {
       "model_id": "0fa09541c3054a769249745506c4e1ac",
       "version_major": 2,
       "version_minor": 0
      },
      "text/plain": [
       "VBox()"
      ]
     },
     "metadata": {},
     "output_type": "display_data"
    },
    {
     "data": {
      "application/vnd.jupyter.widget-view+json": {
       "model_id": "",
       "version_major": 2,
       "version_minor": 0
      },
      "text/plain": [
       "FloatProgress(value=0.0, bar_style='info', description='Progress:', layout=Layout(height='25px', width='50%'),…"
      ]
     },
     "metadata": {},
     "output_type": "display_data"
    }
   ],
   "source": [
    "# Creating variables pointing to where data is stored\n",
    "input_data = 's3a://udacity-dend/'\n",
    "output_data = 's3://udacity-scb-proj2/result/'"
   ]
  },
  {
   "cell_type": "code",
   "execution_count": 4,
   "id": "c3a2adc2-330a-4d5a-bd9f-dc674ee0d19c",
   "metadata": {
    "execution": {
     "iopub.execute_input": "2022-05-23T18:22:57.063077Z",
     "iopub.status.busy": "2022-05-23T18:22:57.062825Z",
     "iopub.status.idle": "2022-05-23T18:22:57.242421Z",
     "shell.execute_reply": "2022-05-23T18:22:57.241420Z",
     "shell.execute_reply.started": "2022-05-23T18:22:57.063046Z"
    },
    "tags": []
   },
   "outputs": [
    {
     "data": {
      "application/vnd.jupyter.widget-view+json": {
       "model_id": "f340999307134786bb2ec5cf6dc0f6e2",
       "version_major": 2,
       "version_minor": 0
      },
      "text/plain": [
       "VBox()"
      ]
     },
     "metadata": {},
     "output_type": "display_data"
    },
    {
     "data": {
      "application/vnd.jupyter.widget-view+json": {
       "model_id": "",
       "version_major": 2,
       "version_minor": 0
      },
      "text/plain": [
       "FloatProgress(value=0.0, bar_style='info', description='Progress:', layout=Layout(height='25px', width='50%'),…"
      ]
     },
     "metadata": {},
     "output_type": "display_data"
    }
   ],
   "source": [
    "song_data = input_data + 'song_data/*/*/*/*.json'\n",
    "log_data = input_data + 'log_data/*/*/*.json'"
   ]
  },
  {
   "cell_type": "code",
   "execution_count": 5,
   "id": "bf6dd79f-8050-4bde-91ca-adcefec98544",
   "metadata": {
    "execution": {
     "iopub.execute_input": "2022-05-23T18:22:59.839862Z",
     "iopub.status.busy": "2022-05-23T18:22:59.839624Z",
     "iopub.status.idle": "2022-05-23T18:23:00.039516Z",
     "shell.execute_reply": "2022-05-23T18:23:00.038515Z",
     "shell.execute_reply.started": "2022-05-23T18:22:59.839836Z"
    },
    "tags": []
   },
   "outputs": [
    {
     "data": {
      "application/vnd.jupyter.widget-view+json": {
       "model_id": "4cffdd6255f54ca78bc96cc904295c01",
       "version_major": 2,
       "version_minor": 0
      },
      "text/plain": [
       "VBox()"
      ]
     },
     "metadata": {},
     "output_type": "display_data"
    },
    {
     "data": {
      "application/vnd.jupyter.widget-view+json": {
       "model_id": "",
       "version_major": 2,
       "version_minor": 0
      },
      "text/plain": [
       "FloatProgress(value=0.0, bar_style='info', description='Progress:', layout=Layout(height='25px', width='50%'),…"
      ]
     },
     "metadata": {},
     "output_type": "display_data"
    },
    {
     "name": "stdout",
     "output_type": "stream",
     "text": [
      "'s3a://udacity-dend/song_data/*/*/*/*.json'"
     ]
    }
   ],
   "source": [
    "song_data"
   ]
  },
  {
   "cell_type": "code",
   "execution_count": 6,
   "id": "211e5daf-5cdb-45af-8481-f8eb3f9ebef3",
   "metadata": {
    "execution": {
     "iopub.execute_input": "2022-05-23T18:23:01.258906Z",
     "iopub.status.busy": "2022-05-23T18:23:01.258658Z",
     "iopub.status.idle": "2022-05-23T18:23:01.430123Z",
     "shell.execute_reply": "2022-05-23T18:23:01.429429Z",
     "shell.execute_reply.started": "2022-05-23T18:23:01.258877Z"
    },
    "tags": []
   },
   "outputs": [
    {
     "data": {
      "application/vnd.jupyter.widget-view+json": {
       "model_id": "9050cea7bd69439f9019b2a591916841",
       "version_major": 2,
       "version_minor": 0
      },
      "text/plain": [
       "VBox()"
      ]
     },
     "metadata": {},
     "output_type": "display_data"
    },
    {
     "data": {
      "application/vnd.jupyter.widget-view+json": {
       "model_id": "",
       "version_major": 2,
       "version_minor": 0
      },
      "text/plain": [
       "FloatProgress(value=0.0, bar_style='info', description='Progress:', layout=Layout(height='25px', width='50%'),…"
      ]
     },
     "metadata": {},
     "output_type": "display_data"
    },
    {
     "name": "stdout",
     "output_type": "stream",
     "text": [
      "'s3a://udacity-dend/log_data/*/*/*.json'"
     ]
    }
   ],
   "source": [
    "log_data"
   ]
  },
  {
   "cell_type": "markdown",
   "id": "65684b5b-5222-4959-b45d-a8ed5098f9f3",
   "metadata": {},
   "source": [
    "## Processing the song data"
   ]
  },
  {
   "cell_type": "code",
   "execution_count": 7,
   "id": "c2659f1e-6cc6-433d-92bc-90bf158726bd",
   "metadata": {
    "execution": {
     "iopub.execute_input": "2022-05-23T18:23:06.080364Z",
     "iopub.status.busy": "2022-05-23T18:23:06.080123Z",
     "iopub.status.idle": "2022-05-23T18:36:13.051876Z",
     "shell.execute_reply": "2022-05-23T18:36:13.050774Z",
     "shell.execute_reply.started": "2022-05-23T18:23:06.080335Z"
    },
    "tags": []
   },
   "outputs": [
    {
     "data": {
      "application/vnd.jupyter.widget-view+json": {
       "model_id": "af3556cafe2046e4909fb3fffe25ef51",
       "version_major": 2,
       "version_minor": 0
      },
      "text/plain": [
       "VBox()"
      ]
     },
     "metadata": {},
     "output_type": "display_data"
    },
    {
     "data": {
      "application/vnd.jupyter.widget-view+json": {
       "model_id": "",
       "version_major": 2,
       "version_minor": 0
      },
      "text/plain": [
       "FloatProgress(value=0.0, bar_style='info', description='Progress:', layout=Layout(height='25px', width='50%'),…"
      ]
     },
     "metadata": {},
     "output_type": "display_data"
    }
   ],
   "source": [
    "df = spark.read.json(song_data)"
   ]
  },
  {
   "cell_type": "code",
   "execution_count": 8,
   "id": "08a7a773-e397-4ad6-ad18-5ef07f255755",
   "metadata": {
    "execution": {
     "iopub.execute_input": "2022-05-23T18:36:42.261638Z",
     "iopub.status.busy": "2022-05-23T18:36:42.261386Z",
     "iopub.status.idle": "2022-05-23T18:36:42.430846Z",
     "shell.execute_reply": "2022-05-23T18:36:42.430205Z",
     "shell.execute_reply.started": "2022-05-23T18:36:42.261609Z"
    },
    "tags": []
   },
   "outputs": [
    {
     "data": {
      "application/vnd.jupyter.widget-view+json": {
       "model_id": "b65bbdaf2a614ebb97b43f15015d61b2",
       "version_major": 2,
       "version_minor": 0
      },
      "text/plain": [
       "VBox()"
      ]
     },
     "metadata": {},
     "output_type": "display_data"
    },
    {
     "data": {
      "application/vnd.jupyter.widget-view+json": {
       "model_id": "",
       "version_major": 2,
       "version_minor": 0
      },
      "text/plain": [
       "FloatProgress(value=0.0, bar_style='info', description='Progress:', layout=Layout(height='25px', width='50%'),…"
      ]
     },
     "metadata": {},
     "output_type": "display_data"
    },
    {
     "name": "stdout",
     "output_type": "stream",
     "text": [
      "<class 'pyspark.sql.dataframe.DataFrame'>"
     ]
    }
   ],
   "source": [
    "print(type(df))"
   ]
  },
  {
   "cell_type": "code",
   "execution_count": 9,
   "id": "e8a749b3-2f5a-4a76-87d3-f774f1fed5f8",
   "metadata": {
    "execution": {
     "iopub.execute_input": "2022-05-23T18:36:45.990490Z",
     "iopub.status.busy": "2022-05-23T18:36:45.990241Z",
     "iopub.status.idle": "2022-05-23T18:36:46.373756Z",
     "shell.execute_reply": "2022-05-23T18:36:46.372475Z",
     "shell.execute_reply.started": "2022-05-23T18:36:45.990461Z"
    },
    "tags": []
   },
   "outputs": [
    {
     "data": {
      "application/vnd.jupyter.widget-view+json": {
       "model_id": "d0a9060f5af443fea1a68e264a7fc04e",
       "version_major": 2,
       "version_minor": 0
      },
      "text/plain": [
       "VBox()"
      ]
     },
     "metadata": {},
     "output_type": "display_data"
    },
    {
     "data": {
      "application/vnd.jupyter.widget-view+json": {
       "model_id": "",
       "version_major": 2,
       "version_minor": 0
      },
      "text/plain": [
       "FloatProgress(value=0.0, bar_style='info', description='Progress:', layout=Layout(height='25px', width='50%'),…"
      ]
     },
     "metadata": {},
     "output_type": "display_data"
    },
    {
     "name": "stdout",
     "output_type": "stream",
     "text": [
      "root\n",
      " |-- artist_id: string (nullable = true)\n",
      " |-- artist_latitude: double (nullable = true)\n",
      " |-- artist_location: string (nullable = true)\n",
      " |-- artist_longitude: double (nullable = true)\n",
      " |-- artist_name: string (nullable = true)\n",
      " |-- duration: double (nullable = true)\n",
      " |-- num_songs: long (nullable = true)\n",
      " |-- song_id: string (nullable = true)\n",
      " |-- title: string (nullable = true)\n",
      " |-- year: long (nullable = true)"
     ]
    }
   ],
   "source": [
    "# Let us view the schema of the songs dataset\n",
    "df.printSchema()"
   ]
  },
  {
   "cell_type": "code",
   "execution_count": 10,
   "id": "abc1e0a0-94e6-4126-9f88-10ab733fbabb",
   "metadata": {
    "execution": {
     "iopub.execute_input": "2022-05-23T18:36:54.689214Z",
     "iopub.status.busy": "2022-05-23T18:36:54.688959Z",
     "iopub.status.idle": "2022-05-23T18:36:57.228451Z",
     "shell.execute_reply": "2022-05-23T18:36:57.227582Z",
     "shell.execute_reply.started": "2022-05-23T18:36:54.689178Z"
    },
    "tags": []
   },
   "outputs": [
    {
     "data": {
      "application/vnd.jupyter.widget-view+json": {
       "model_id": "626e88aae2474c4bb4a364109b4f7639",
       "version_major": 2,
       "version_minor": 0
      },
      "text/plain": [
       "VBox()"
      ]
     },
     "metadata": {},
     "output_type": "display_data"
    },
    {
     "data": {
      "application/vnd.jupyter.widget-view+json": {
       "model_id": "",
       "version_major": 2,
       "version_minor": 0
      },
      "text/plain": [
       "FloatProgress(value=0.0, bar_style='info', description='Progress:', layout=Layout(height='25px', width='50%'),…"
      ]
     },
     "metadata": {},
     "output_type": "display_data"
    },
    {
     "name": "stdout",
     "output_type": "stream",
     "text": [
      "[Row(artist_id='AR4T2IF1187B9ADBB7', artist_latitude=63.96027, artist_location='<a href=\"http://billyidol.net\" onmousedown=\\'UntrustedLink.bootstrap($(this), \"fc44f8f60d13ab68c56b3c6709c6d670\", event)\\' target=\"_blank\" rel=\"nofollow\">http://billyidol.net</a>', artist_longitude=10.22442, artist_name='Billy Idol', duration=233.22077, num_songs=1, song_id='SOVIYJY12AF72A4B00', title='The Dead Next Door (Digitally Remastered 99)', year=1983), Row(artist_id='AR4T2IF1187B9ADBB7', artist_latitude=63.96027, artist_location='<a href=\"http://billyidol.net\" onmousedown=\\'UntrustedLink.bootstrap($(this), \"fc44f8f60d13ab68c56b3c6709c6d670\", event)\\' target=\"_blank\" rel=\"nofollow\">http://billyidol.net</a>', artist_longitude=10.22442, artist_name='Billy Idol', duration=287.92118, num_songs=1, song_id='SOVYXYL12AF72A3373', title='Rebel Yell (1999 Digital Remaster)', year=1983), Row(artist_id='ARQ846I1187B9A7083', artist_latitude=None, artist_location='', artist_longitude=None, artist_name='Yvonne S. Moriarty / Walt Fowler / Ladd McIntosh / Elizabeth Finch / Jack Smalley / Bruce Fowler / Gavin Greenaway / The Lyndhurst Orchestra / Lisa Gerrard / Hans Zimmer', duration=196.04853, num_songs=1, song_id='SOEPTVC12A67ADD0DA', title='To Zucchabar [\"Gladiator\" - Music from the Motion Picture]', year=0), Row(artist_id='AR4T2IF1187B9ADBB7', artist_latitude=63.96027, artist_location='<a href=\"http://billyidol.net\" onmousedown=\\'UntrustedLink.bootstrap($(this), \"fc44f8f60d13ab68c56b3c6709c6d670\", event)\\' target=\"_blank\" rel=\"nofollow\">http://billyidol.net</a>', artist_longitude=10.22442, artist_name='Billy Idol', duration=247.53587, num_songs=1, song_id='SOLQYSZ12AB0181F97', title='Mony Mony (Live)', year=1987), Row(artist_id='AR3TZ691187FB3DBB1', artist_latitude=None, artist_location='', artist_longitude=None, artist_name='Russell Watson / Pino Palladino / Robbie McIntosh / John Savannah / Geoff Dugmore / The Metro Voices / William Hayward / Shaun Ryder / Royal Philharmonic Orchestra / Nick Ingman', duration=273.44934, num_songs=1, song_id='SOVPFJK12A6701CB16', title='Barcelona - (Friends until the end)', year=2000)]"
     ]
    }
   ],
   "source": [
    "df.take(5)"
   ]
  },
  {
   "cell_type": "code",
   "execution_count": 11,
   "id": "b6da9f94-2f23-4070-9a46-e88a73908ee0",
   "metadata": {
    "execution": {
     "iopub.execute_input": "2022-05-23T18:37:01.278859Z",
     "iopub.status.busy": "2022-05-23T18:37:01.276260Z",
     "iopub.status.idle": "2022-05-23T18:37:01.695895Z",
     "shell.execute_reply": "2022-05-23T18:37:01.695069Z",
     "shell.execute_reply.started": "2022-05-23T18:37:01.278799Z"
    },
    "tags": []
   },
   "outputs": [
    {
     "data": {
      "application/vnd.jupyter.widget-view+json": {
       "model_id": "4b18f067566846699c9103dfd438bcec",
       "version_major": 2,
       "version_minor": 0
      },
      "text/plain": [
       "VBox()"
      ]
     },
     "metadata": {},
     "output_type": "display_data"
    },
    {
     "data": {
      "application/vnd.jupyter.widget-view+json": {
       "model_id": "",
       "version_major": 2,
       "version_minor": 0
      },
      "text/plain": [
       "FloatProgress(value=0.0, bar_style='info', description='Progress:', layout=Layout(height='25px', width='50%'),…"
      ]
     },
     "metadata": {},
     "output_type": "display_data"
    }
   ],
   "source": [
    "# extract columns to create songs table\n",
    "songs_table = df.select(['song_id','title','artist_id','year','duration'])\\\n",
    "                    .dropDuplicates()"
   ]
  },
  {
   "cell_type": "code",
   "execution_count": 12,
   "id": "01f0afa1-50f6-470b-92fc-8aa4b4cbd926",
   "metadata": {
    "execution": {
     "iopub.execute_input": "2022-05-23T18:37:08.416767Z",
     "iopub.status.busy": "2022-05-23T18:37:08.416272Z",
     "iopub.status.idle": "2022-05-23T18:43:06.075443Z",
     "shell.execute_reply": "2022-05-23T18:43:06.074766Z",
     "shell.execute_reply.started": "2022-05-23T18:37:08.416732Z"
    },
    "tags": []
   },
   "outputs": [
    {
     "data": {
      "application/vnd.jupyter.widget-view+json": {
       "model_id": "93acc485a1be4baf80ebc2d7f9c6e4d9",
       "version_major": 2,
       "version_minor": 0
      },
      "text/plain": [
       "VBox()"
      ]
     },
     "metadata": {},
     "output_type": "display_data"
    },
    {
     "data": {
      "application/vnd.jupyter.widget-view+json": {
       "model_id": "",
       "version_major": 2,
       "version_minor": 0
      },
      "text/plain": [
       "FloatProgress(value=0.0, bar_style='info', description='Progress:', layout=Layout(height='25px', width='50%'),…"
      ]
     },
     "metadata": {},
     "output_type": "display_data"
    },
    {
     "name": "stdout",
     "output_type": "stream",
     "text": [
      "Row(song_id='SONKVFM12AB01875C9', title='Amor De Madre/Mi Niña Cambió/Un Chi Chi Medley', artist_id='ARL4W6Q1187FB4713C', year=0, duration=639.13751)"
     ]
    }
   ],
   "source": [
    "songs_table.head()"
   ]
  },
  {
   "cell_type": "code",
   "execution_count": 13,
   "id": "214ed3f9-7d9b-4bb8-b550-60f953295ca9",
   "metadata": {
    "execution": {
     "iopub.execute_input": "2022-05-23T18:43:12.319551Z",
     "iopub.status.busy": "2022-05-23T18:43:12.319203Z",
     "iopub.status.idle": "2022-05-23T18:43:12.510086Z",
     "shell.execute_reply": "2022-05-23T18:43:12.472952Z",
     "shell.execute_reply.started": "2022-05-23T18:43:12.319516Z"
    },
    "tags": []
   },
   "outputs": [
    {
     "data": {
      "application/vnd.jupyter.widget-view+json": {
       "model_id": "bf717e61433540759ee5e957d0e28536",
       "version_major": 2,
       "version_minor": 0
      },
      "text/plain": [
       "VBox()"
      ]
     },
     "metadata": {},
     "output_type": "display_data"
    },
    {
     "data": {
      "application/vnd.jupyter.widget-view+json": {
       "model_id": "",
       "version_major": 2,
       "version_minor": 0
      },
      "text/plain": [
       "FloatProgress(value=0.0, bar_style='info', description='Progress:', layout=Layout(height='25px', width='50%'),…"
      ]
     },
     "metadata": {},
     "output_type": "display_data"
    }
   ],
   "source": [
    "path_song = os.path.join(output_data, \"songs\")"
   ]
  },
  {
   "cell_type": "code",
   "execution_count": 14,
   "id": "519309d2-f3c0-4ba3-a0bd-6bd20baa7769",
   "metadata": {
    "execution": {
     "iopub.execute_input": "2022-05-23T18:43:13.904021Z",
     "iopub.status.busy": "2022-05-23T18:43:13.903775Z",
     "iopub.status.idle": "2022-05-23T18:43:14.111833Z",
     "shell.execute_reply": "2022-05-23T18:43:14.110890Z",
     "shell.execute_reply.started": "2022-05-23T18:43:13.903992Z"
    },
    "tags": []
   },
   "outputs": [
    {
     "data": {
      "application/vnd.jupyter.widget-view+json": {
       "model_id": "80f8b7535a36435e8b27c3adc3aa470a",
       "version_major": 2,
       "version_minor": 0
      },
      "text/plain": [
       "VBox()"
      ]
     },
     "metadata": {},
     "output_type": "display_data"
    },
    {
     "data": {
      "application/vnd.jupyter.widget-view+json": {
       "model_id": "",
       "version_major": 2,
       "version_minor": 0
      },
      "text/plain": [
       "FloatProgress(value=0.0, bar_style='info', description='Progress:', layout=Layout(height='25px', width='50%'),…"
      ]
     },
     "metadata": {},
     "output_type": "display_data"
    },
    {
     "name": "stdout",
     "output_type": "stream",
     "text": [
      "'s3://udacity-scb-proj2/result/songs'"
     ]
    }
   ],
   "source": [
    "path_song"
   ]
  },
  {
   "cell_type": "code",
   "execution_count": 15,
   "id": "177f8955-0387-46d0-aaf6-fc59ef0921e3",
   "metadata": {
    "execution": {
     "iopub.execute_input": "2022-05-23T18:43:15.807617Z",
     "iopub.status.busy": "2022-05-23T18:43:15.807373Z",
     "iopub.status.idle": "2022-05-23T18:43:18.271619Z",
     "shell.execute_reply": "2022-05-23T18:43:18.270664Z",
     "shell.execute_reply.started": "2022-05-23T18:43:15.807588Z"
    },
    "tags": []
   },
   "outputs": [
    {
     "data": {
      "application/vnd.jupyter.widget-view+json": {
       "model_id": "0460d18018f647518a2973ea9789c8dd",
       "version_major": 2,
       "version_minor": 0
      },
      "text/plain": [
       "VBox()"
      ]
     },
     "metadata": {},
     "output_type": "display_data"
    },
    {
     "data": {
      "application/vnd.jupyter.widget-view+json": {
       "model_id": "",
       "version_major": 2,
       "version_minor": 0
      },
      "text/plain": [
       "FloatProgress(value=0.0, bar_style='info', description='Progress:', layout=Layout(height='25px', width='50%'),…"
      ]
     },
     "metadata": {},
     "output_type": "display_data"
    },
    {
     "name": "stderr",
     "output_type": "stream",
     "text": [
      "'path s3://udacity-scb-proj2/result/songs already exists.;'\n",
      "Traceback (most recent call last):\n",
      "  File \"/usr/lib/spark/python/lib/pyspark.zip/pyspark/sql/readwriter.py\", line 841, in parquet\n",
      "    self._jwrite.parquet(path)\n",
      "  File \"/usr/lib/spark/python/lib/py4j-0.10.7-src.zip/py4j/java_gateway.py\", line 1257, in __call__\n",
      "    answer, self.gateway_client, self.target_id, self.name)\n",
      "  File \"/usr/lib/spark/python/lib/pyspark.zip/pyspark/sql/utils.py\", line 69, in deco\n",
      "    raise AnalysisException(s.split(': ', 1)[1], stackTrace)\n",
      "pyspark.sql.utils.AnalysisException: 'path s3://udacity-scb-proj2/result/songs already exists.;'\n",
      "\n"
     ]
    }
   ],
   "source": [
    "songs_table.write.parquet(path_song, partitionBy=(\"year\",\"artist_id\"))"
   ]
  },
  {
   "cell_type": "code",
   "execution_count": 16,
   "id": "7513c511-c07f-4c05-9270-05d734452e83",
   "metadata": {
    "execution": {
     "iopub.execute_input": "2022-05-23T18:43:50.374921Z",
     "iopub.status.busy": "2022-05-23T18:43:50.374660Z",
     "iopub.status.idle": "2022-05-23T18:43:50.532872Z",
     "shell.execute_reply": "2022-05-23T18:43:50.532128Z",
     "shell.execute_reply.started": "2022-05-23T18:43:50.374890Z"
    },
    "tags": []
   },
   "outputs": [
    {
     "data": {
      "application/vnd.jupyter.widget-view+json": {
       "model_id": "fd193c0ce6724827a76c3e236e302396",
       "version_major": 2,
       "version_minor": 0
      },
      "text/plain": [
       "VBox()"
      ]
     },
     "metadata": {},
     "output_type": "display_data"
    },
    {
     "data": {
      "application/vnd.jupyter.widget-view+json": {
       "model_id": "",
       "version_major": 2,
       "version_minor": 0
      },
      "text/plain": [
       "FloatProgress(value=0.0, bar_style='info', description='Progress:', layout=Layout(height='25px', width='50%'),…"
      ]
     },
     "metadata": {},
     "output_type": "display_data"
    }
   ],
   "source": [
    "# extract columns to create artists table\n",
    "# extract columns to create artists table\n",
    "artists_table = df.select(['artist_id','artist_name','artist_location',\n",
    "                               'artist_latitude', 'artist_longitude'])\\\n",
    "                      .dropDuplicates()"
   ]
  },
  {
   "cell_type": "code",
   "execution_count": 17,
   "id": "debb60a1-7b08-4827-bbe3-02b98236b746",
   "metadata": {
    "execution": {
     "iopub.execute_input": "2022-05-23T18:43:53.769925Z",
     "iopub.status.busy": "2022-05-23T18:43:53.769678Z",
     "iopub.status.idle": "2022-05-23T18:43:53.919665Z",
     "shell.execute_reply": "2022-05-23T18:43:53.918941Z",
     "shell.execute_reply.started": "2022-05-23T18:43:53.769895Z"
    },
    "tags": []
   },
   "outputs": [
    {
     "data": {
      "application/vnd.jupyter.widget-view+json": {
       "model_id": "010ef87d83444340b29080b10fbabaaf",
       "version_major": 2,
       "version_minor": 0
      },
      "text/plain": [
       "VBox()"
      ]
     },
     "metadata": {},
     "output_type": "display_data"
    },
    {
     "data": {
      "application/vnd.jupyter.widget-view+json": {
       "model_id": "",
       "version_major": 2,
       "version_minor": 0
      },
      "text/plain": [
       "FloatProgress(value=0.0, bar_style='info', description='Progress:', layout=Layout(height='25px', width='50%'),…"
      ]
     },
     "metadata": {},
     "output_type": "display_data"
    }
   ],
   "source": [
    "# write artists table to parquet files\n",
    "path_artists = os.path.join(output_data, \"artists\")"
   ]
  },
  {
   "cell_type": "code",
   "execution_count": 18,
   "id": "888a1b0b-3fd8-4aa0-9010-78a79b2c4c7c",
   "metadata": {
    "execution": {
     "iopub.execute_input": "2022-05-23T18:43:56.911917Z",
     "iopub.status.busy": "2022-05-23T18:43:56.911653Z",
     "iopub.status.idle": "2022-05-23T18:43:57.122323Z",
     "shell.execute_reply": "2022-05-23T18:43:57.121652Z",
     "shell.execute_reply.started": "2022-05-23T18:43:56.911885Z"
    },
    "tags": []
   },
   "outputs": [
    {
     "data": {
      "application/vnd.jupyter.widget-view+json": {
       "model_id": "6e51a6db649a4e6aaefa7b2b612b4c49",
       "version_major": 2,
       "version_minor": 0
      },
      "text/plain": [
       "VBox()"
      ]
     },
     "metadata": {},
     "output_type": "display_data"
    },
    {
     "data": {
      "application/vnd.jupyter.widget-view+json": {
       "model_id": "",
       "version_major": 2,
       "version_minor": 0
      },
      "text/plain": [
       "FloatProgress(value=0.0, bar_style='info', description='Progress:', layout=Layout(height='25px', width='50%'),…"
      ]
     },
     "metadata": {},
     "output_type": "display_data"
    },
    {
     "name": "stdout",
     "output_type": "stream",
     "text": [
      "'s3://udacity-scb-proj2/result/artists'"
     ]
    }
   ],
   "source": [
    "path_artists"
   ]
  },
  {
   "cell_type": "code",
   "execution_count": 19,
   "id": "dd864598-4867-4eb8-bd4b-c15ba6df2a46",
   "metadata": {
    "execution": {
     "iopub.execute_input": "2022-05-23T18:44:06.047416Z",
     "iopub.status.busy": "2022-05-23T18:44:06.047008Z",
     "iopub.status.idle": "2022-05-23T18:44:06.443919Z",
     "shell.execute_reply": "2022-05-23T18:44:06.443295Z",
     "shell.execute_reply.started": "2022-05-23T18:44:06.047379Z"
    },
    "tags": []
   },
   "outputs": [
    {
     "data": {
      "application/vnd.jupyter.widget-view+json": {
       "model_id": "eb247235dce44686b7d347e0cd96d9f0",
       "version_major": 2,
       "version_minor": 0
      },
      "text/plain": [
       "VBox()"
      ]
     },
     "metadata": {},
     "output_type": "display_data"
    },
    {
     "data": {
      "application/vnd.jupyter.widget-view+json": {
       "model_id": "",
       "version_major": 2,
       "version_minor": 0
      },
      "text/plain": [
       "FloatProgress(value=0.0, bar_style='info', description='Progress:', layout=Layout(height='25px', width='50%'),…"
      ]
     },
     "metadata": {},
     "output_type": "display_data"
    },
    {
     "name": "stderr",
     "output_type": "stream",
     "text": [
      "'path s3://udacity-scb-proj2/result/artists already exists.;'\n",
      "Traceback (most recent call last):\n",
      "  File \"/usr/lib/spark/python/lib/pyspark.zip/pyspark/sql/readwriter.py\", line 841, in parquet\n",
      "    self._jwrite.parquet(path)\n",
      "  File \"/usr/lib/spark/python/lib/py4j-0.10.7-src.zip/py4j/java_gateway.py\", line 1257, in __call__\n",
      "    answer, self.gateway_client, self.target_id, self.name)\n",
      "  File \"/usr/lib/spark/python/lib/pyspark.zip/pyspark/sql/utils.py\", line 69, in deco\n",
      "    raise AnalysisException(s.split(': ', 1)[1], stackTrace)\n",
      "pyspark.sql.utils.AnalysisException: 'path s3://udacity-scb-proj2/result/artists already exists.;'\n",
      "\n"
     ]
    }
   ],
   "source": [
    "artists_table.write.parquet(path_artists)"
   ]
  },
  {
   "cell_type": "markdown",
   "id": "c179d64c-a24b-4d6b-bec3-1a403cc54a9e",
   "metadata": {},
   "source": [
    "## Processing the log data"
   ]
  },
  {
   "cell_type": "code",
   "execution_count": 20,
   "id": "4b95a0a5-a437-4b4c-a20e-f131313bc3a1",
   "metadata": {
    "execution": {
     "iopub.execute_input": "2022-05-23T18:44:08.902616Z",
     "iopub.status.busy": "2022-05-23T18:44:08.902349Z",
     "iopub.status.idle": "2022-05-23T18:44:09.066915Z",
     "shell.execute_reply": "2022-05-23T18:44:09.066259Z",
     "shell.execute_reply.started": "2022-05-23T18:44:08.902586Z"
    },
    "tags": []
   },
   "outputs": [
    {
     "data": {
      "application/vnd.jupyter.widget-view+json": {
       "model_id": "7ff114beb4464833ae66f7f0f85d007c",
       "version_major": 2,
       "version_minor": 0
      },
      "text/plain": [
       "VBox()"
      ]
     },
     "metadata": {},
     "output_type": "display_data"
    },
    {
     "data": {
      "application/vnd.jupyter.widget-view+json": {
       "model_id": "",
       "version_major": 2,
       "version_minor": 0
      },
      "text/plain": [
       "FloatProgress(value=0.0, bar_style='info', description='Progress:', layout=Layout(height='25px', width='50%'),…"
      ]
     },
     "metadata": {},
     "output_type": "display_data"
    },
    {
     "name": "stdout",
     "output_type": "stream",
     "text": [
      "'s3a://udacity-dend/log_data/*/*/*.json'"
     ]
    }
   ],
   "source": [
    "log_data"
   ]
  },
  {
   "cell_type": "code",
   "execution_count": 21,
   "id": "1fc16e4a-abf9-44a7-9215-0ad49c7d86b4",
   "metadata": {
    "execution": {
     "iopub.execute_input": "2022-05-23T18:44:10.400924Z",
     "iopub.status.busy": "2022-05-23T18:44:10.400667Z",
     "iopub.status.idle": "2022-05-23T18:44:10.563686Z",
     "shell.execute_reply": "2022-05-23T18:44:10.563020Z",
     "shell.execute_reply.started": "2022-05-23T18:44:10.400895Z"
    },
    "tags": []
   },
   "outputs": [
    {
     "data": {
      "application/vnd.jupyter.widget-view+json": {
       "model_id": "f072cb08568c4bc6a907a62cf27a8188",
       "version_major": 2,
       "version_minor": 0
      },
      "text/plain": [
       "VBox()"
      ]
     },
     "metadata": {},
     "output_type": "display_data"
    },
    {
     "data": {
      "application/vnd.jupyter.widget-view+json": {
       "model_id": "",
       "version_major": 2,
       "version_minor": 0
      },
      "text/plain": [
       "FloatProgress(value=0.0, bar_style='info', description='Progress:', layout=Layout(height='25px', width='50%'),…"
      ]
     },
     "metadata": {},
     "output_type": "display_data"
    },
    {
     "name": "stdout",
     "output_type": "stream",
     "text": [
      "'s3a://udacity-dend/log_data/*/*/*.json'"
     ]
    }
   ],
   "source": [
    "log_data = os.path.join(input_data, \"log_data/*/*/*.json\")\n",
    "log_data"
   ]
  },
  {
   "cell_type": "code",
   "execution_count": 22,
   "id": "de6d87f4-26fd-4210-a1df-9e00efd9e510",
   "metadata": {
    "execution": {
     "iopub.execute_input": "2022-05-23T18:44:17.711754Z",
     "iopub.status.busy": "2022-05-23T18:44:17.711498Z",
     "iopub.status.idle": "2022-05-23T18:44:39.407569Z",
     "shell.execute_reply": "2022-05-23T18:44:39.406918Z",
     "shell.execute_reply.started": "2022-05-23T18:44:17.711725Z"
    },
    "tags": []
   },
   "outputs": [
    {
     "data": {
      "application/vnd.jupyter.widget-view+json": {
       "model_id": "069229268411478a8541f9f1e3fb30ec",
       "version_major": 2,
       "version_minor": 0
      },
      "text/plain": [
       "VBox()"
      ]
     },
     "metadata": {},
     "output_type": "display_data"
    },
    {
     "data": {
      "application/vnd.jupyter.widget-view+json": {
       "model_id": "",
       "version_major": 2,
       "version_minor": 0
      },
      "text/plain": [
       "FloatProgress(value=0.0, bar_style='info', description='Progress:', layout=Layout(height='25px', width='50%'),…"
      ]
     },
     "metadata": {},
     "output_type": "display_data"
    }
   ],
   "source": [
    "df = spark.read.json(log_data)"
   ]
  },
  {
   "cell_type": "code",
   "execution_count": 23,
   "id": "cab74725-9eb6-4d66-8680-d322c83efb47",
   "metadata": {
    "execution": {
     "iopub.execute_input": "2022-05-23T18:44:42.271926Z",
     "iopub.status.busy": "2022-05-23T18:44:42.271681Z",
     "iopub.status.idle": "2022-05-23T18:44:42.656956Z",
     "shell.execute_reply": "2022-05-23T18:44:42.656238Z",
     "shell.execute_reply.started": "2022-05-23T18:44:42.271898Z"
    },
    "tags": []
   },
   "outputs": [
    {
     "data": {
      "application/vnd.jupyter.widget-view+json": {
       "model_id": "8e211b5e3f554723adac9a51d7d2c9bc",
       "version_major": 2,
       "version_minor": 0
      },
      "text/plain": [
       "VBox()"
      ]
     },
     "metadata": {},
     "output_type": "display_data"
    },
    {
     "data": {
      "application/vnd.jupyter.widget-view+json": {
       "model_id": "",
       "version_major": 2,
       "version_minor": 0
      },
      "text/plain": [
       "FloatProgress(value=0.0, bar_style='info', description='Progress:', layout=Layout(height='25px', width='50%'),…"
      ]
     },
     "metadata": {},
     "output_type": "display_data"
    }
   ],
   "source": [
    "# filter by actions for song plays\n",
    "df = df.where(df.page == \"NextSong\")"
   ]
  },
  {
   "cell_type": "code",
   "execution_count": 24,
   "id": "317c582a-af61-43f8-907a-0d751c9a0da6",
   "metadata": {
    "execution": {
     "iopub.execute_input": "2022-05-23T18:44:43.813538Z",
     "iopub.status.busy": "2022-05-23T18:44:43.813243Z",
     "iopub.status.idle": "2022-05-23T18:44:45.269105Z",
     "shell.execute_reply": "2022-05-23T18:44:45.268444Z",
     "shell.execute_reply.started": "2022-05-23T18:44:43.813507Z"
    },
    "tags": []
   },
   "outputs": [
    {
     "data": {
      "application/vnd.jupyter.widget-view+json": {
       "model_id": "d6102c35aac94ce3b89269dc299723e0",
       "version_major": 2,
       "version_minor": 0
      },
      "text/plain": [
       "VBox()"
      ]
     },
     "metadata": {},
     "output_type": "display_data"
    },
    {
     "data": {
      "application/vnd.jupyter.widget-view+json": {
       "model_id": "",
       "version_major": 2,
       "version_minor": 0
      },
      "text/plain": [
       "FloatProgress(value=0.0, bar_style='info', description='Progress:', layout=Layout(height='25px', width='50%'),…"
      ]
     },
     "metadata": {},
     "output_type": "display_data"
    },
    {
     "name": "stdout",
     "output_type": "stream",
     "text": [
      "[Row(artist='Harmonia', auth='Logged In', firstName='Ryan', gender='M', itemInSession=0, lastName='Smith', length=655.77751, level='free', location='San Jose-Sunnyvale-Santa Clara, CA', method='PUT', page='NextSong', registration=1541016707796.0, sessionId=583, song='Sehr kosmisch', status=200, ts=1542241826796, userAgent='\"Mozilla/5.0 (X11; Linux x86_64) AppleWebKit/537.36 (KHTML, like Gecko) Ubuntu Chromium/36.0.1985.125 Chrome/36.0.1985.125 Safari/537.36\"', userId='26'), Row(artist='The Prodigy', auth='Logged In', firstName='Ryan', gender='M', itemInSession=1, lastName='Smith', length=260.07465, level='free', location='San Jose-Sunnyvale-Santa Clara, CA', method='PUT', page='NextSong', registration=1541016707796.0, sessionId=583, song='The Big Gundown', status=200, ts=1542242481796, userAgent='\"Mozilla/5.0 (X11; Linux x86_64) AppleWebKit/537.36 (KHTML, like Gecko) Ubuntu Chromium/36.0.1985.125 Chrome/36.0.1985.125 Safari/537.36\"', userId='26'), Row(artist='Train', auth='Logged In', firstName='Ryan', gender='M', itemInSession=2, lastName='Smith', length=205.45261, level='free', location='San Jose-Sunnyvale-Santa Clara, CA', method='PUT', page='NextSong', registration=1541016707796.0, sessionId=583, song='Marry Me', status=200, ts=1542242741796, userAgent='\"Mozilla/5.0 (X11; Linux x86_64) AppleWebKit/537.36 (KHTML, like Gecko) Ubuntu Chromium/36.0.1985.125 Chrome/36.0.1985.125 Safari/537.36\"', userId='26'), Row(artist='Sony Wonder', auth='Logged In', firstName='Samuel', gender='M', itemInSession=0, lastName='Gonzalez', length=218.06975, level='free', location='Houston-The Woodlands-Sugar Land, TX', method='PUT', page='NextSong', registration=1540492941796.0, sessionId=597, song='Blackbird', status=200, ts=1542253449796, userAgent='\"Mozilla/5.0 (Macintosh; Intel Mac OS X 10_9_4) AppleWebKit/537.77.4 (KHTML, like Gecko) Version/7.0.5 Safari/537.77.4\"', userId='61'), Row(artist='Van Halen', auth='Logged In', firstName='Tegan', gender='F', itemInSession=2, lastName='Levine', length=289.38404, level='paid', location='Portland-South Portland, ME', method='PUT', page='NextSong', registration=1540794356796.0, sessionId=602, song='Best Of Both Worlds (Remastered Album Version)', status=200, ts=1542260935796, userAgent='\"Mozilla/5.0 (Macintosh; Intel Mac OS X 10_9_4) AppleWebKit/537.36 (KHTML, like Gecko) Chrome/36.0.1985.143 Safari/537.36\"', userId='80')]"
     ]
    }
   ],
   "source": [
    "df.head(5)"
   ]
  },
  {
   "cell_type": "code",
   "execution_count": 25,
   "id": "cdb436fb-7f34-4390-a932-038194bd1b4b",
   "metadata": {
    "execution": {
     "iopub.execute_input": "2022-05-23T18:44:51.854728Z",
     "iopub.status.busy": "2022-05-23T18:44:51.854464Z",
     "iopub.status.idle": "2022-05-23T18:44:52.214531Z",
     "shell.execute_reply": "2022-05-23T18:44:52.213592Z",
     "shell.execute_reply.started": "2022-05-23T18:44:51.854698Z"
    },
    "tags": []
   },
   "outputs": [
    {
     "data": {
      "application/vnd.jupyter.widget-view+json": {
       "model_id": "7d3435d9c2db4d4ba438fcb5a791e95b",
       "version_major": 2,
       "version_minor": 0
      },
      "text/plain": [
       "VBox()"
      ]
     },
     "metadata": {},
     "output_type": "display_data"
    },
    {
     "data": {
      "application/vnd.jupyter.widget-view+json": {
       "model_id": "",
       "version_major": 2,
       "version_minor": 0
      },
      "text/plain": [
       "FloatProgress(value=0.0, bar_style='info', description='Progress:', layout=Layout(height='25px', width='50%'),…"
      ]
     },
     "metadata": {},
     "output_type": "display_data"
    }
   ],
   "source": [
    "# extract columns for users table    \n",
    "users_table = df.select(['userId','firstName','lastName','gender','level'])\\\n",
    "                    .dropDuplicates()"
   ]
  },
  {
   "cell_type": "code",
   "execution_count": 26,
   "id": "aa0109fa-6e91-4d01-ba83-aa84947f0a3e",
   "metadata": {
    "execution": {
     "iopub.execute_input": "2022-05-23T18:44:54.334042Z",
     "iopub.status.busy": "2022-05-23T18:44:54.333790Z",
     "iopub.status.idle": "2022-05-23T18:44:54.747108Z",
     "shell.execute_reply": "2022-05-23T18:44:54.746454Z",
     "shell.execute_reply.started": "2022-05-23T18:44:54.334015Z"
    },
    "tags": []
   },
   "outputs": [
    {
     "data": {
      "application/vnd.jupyter.widget-view+json": {
       "model_id": "281f4755c7b64048bb594653708c9fc3",
       "version_major": 2,
       "version_minor": 0
      },
      "text/plain": [
       "VBox()"
      ]
     },
     "metadata": {},
     "output_type": "display_data"
    },
    {
     "data": {
      "application/vnd.jupyter.widget-view+json": {
       "model_id": "",
       "version_major": 2,
       "version_minor": 0
      },
      "text/plain": [
       "FloatProgress(value=0.0, bar_style='info', description='Progress:', layout=Layout(height='25px', width='50%'),…"
      ]
     },
     "metadata": {},
     "output_type": "display_data"
    },
    {
     "name": "stderr",
     "output_type": "stream",
     "text": [
      "'path s3://udacity-scb-proj2/result/users already exists.;'\n",
      "Traceback (most recent call last):\n",
      "  File \"/usr/lib/spark/python/lib/pyspark.zip/pyspark/sql/readwriter.py\", line 841, in parquet\n",
      "    self._jwrite.parquet(path)\n",
      "  File \"/usr/lib/spark/python/lib/py4j-0.10.7-src.zip/py4j/java_gateway.py\", line 1257, in __call__\n",
      "    answer, self.gateway_client, self.target_id, self.name)\n",
      "  File \"/usr/lib/spark/python/lib/pyspark.zip/pyspark/sql/utils.py\", line 69, in deco\n",
      "    raise AnalysisException(s.split(': ', 1)[1], stackTrace)\n",
      "pyspark.sql.utils.AnalysisException: 'path s3://udacity-scb-proj2/result/users already exists.;'\n",
      "\n"
     ]
    }
   ],
   "source": [
    "# write users table to parquet files\n",
    "path_users = os.path.join(output_data, \"users\")\n",
    "users_table.write.parquet(path_users)"
   ]
  },
  {
   "cell_type": "code",
   "execution_count": 27,
   "id": "1d2670f6-6624-4b68-8575-ab7119a67e53",
   "metadata": {
    "execution": {
     "iopub.execute_input": "2022-05-23T18:45:02.981134Z",
     "iopub.status.busy": "2022-05-23T18:45:02.980880Z",
     "iopub.status.idle": "2022-05-23T18:45:03.138397Z",
     "shell.execute_reply": "2022-05-23T18:45:03.137712Z",
     "shell.execute_reply.started": "2022-05-23T18:45:02.981104Z"
    },
    "tags": []
   },
   "outputs": [
    {
     "data": {
      "application/vnd.jupyter.widget-view+json": {
       "model_id": "ebed87be15004fcd81d88cc6cf91f995",
       "version_major": 2,
       "version_minor": 0
      },
      "text/plain": [
       "VBox()"
      ]
     },
     "metadata": {},
     "output_type": "display_data"
    },
    {
     "data": {
      "application/vnd.jupyter.widget-view+json": {
       "model_id": "",
       "version_major": 2,
       "version_minor": 0
      },
      "text/plain": [
       "FloatProgress(value=0.0, bar_style='info', description='Progress:', layout=Layout(height='25px', width='50%'),…"
      ]
     },
     "metadata": {},
     "output_type": "display_data"
    }
   ],
   "source": [
    "# create timestamp column from original timestamp column\n",
    "get_timestamp = udf(lambda x: x/1000, IntegerType())\n",
    "df = df.withColumn('timestamp', get_timestamp(df.ts))"
   ]
  },
  {
   "cell_type": "code",
   "execution_count": 28,
   "id": "f95fd087-e031-4e75-95c3-69de141affc4",
   "metadata": {
    "execution": {
     "iopub.execute_input": "2022-05-23T18:45:09.173224Z",
     "iopub.status.busy": "2022-05-23T18:45:09.172943Z",
     "iopub.status.idle": "2022-05-23T18:45:14.792963Z",
     "shell.execute_reply": "2022-05-23T18:45:14.792166Z",
     "shell.execute_reply.started": "2022-05-23T18:45:09.173193Z"
    },
    "tags": []
   },
   "outputs": [
    {
     "data": {
      "application/vnd.jupyter.widget-view+json": {
       "model_id": "c00e0b56a69141d590e729b56d08825c",
       "version_major": 2,
       "version_minor": 0
      },
      "text/plain": [
       "VBox()"
      ]
     },
     "metadata": {},
     "output_type": "display_data"
    },
    {
     "data": {
      "application/vnd.jupyter.widget-view+json": {
       "model_id": "",
       "version_major": 2,
       "version_minor": 0
      },
      "text/plain": [
       "FloatProgress(value=0.0, bar_style='info', description='Progress:', layout=Layout(height='25px', width='50%'),…"
      ]
     },
     "metadata": {},
     "output_type": "display_data"
    },
    {
     "name": "stdout",
     "output_type": "stream",
     "text": [
      "[Row(artist='Harmonia', auth='Logged In', firstName='Ryan', gender='M', itemInSession=0, lastName='Smith', length=655.77751, level='free', location='San Jose-Sunnyvale-Santa Clara, CA', method='PUT', page='NextSong', registration=1541016707796.0, sessionId=583, song='Sehr kosmisch', status=200, ts=1542241826796, userAgent='\"Mozilla/5.0 (X11; Linux x86_64) AppleWebKit/537.36 (KHTML, like Gecko) Ubuntu Chromium/36.0.1985.125 Chrome/36.0.1985.125 Safari/537.36\"', userId='26', timestamp=None), Row(artist='The Prodigy', auth='Logged In', firstName='Ryan', gender='M', itemInSession=1, lastName='Smith', length=260.07465, level='free', location='San Jose-Sunnyvale-Santa Clara, CA', method='PUT', page='NextSong', registration=1541016707796.0, sessionId=583, song='The Big Gundown', status=200, ts=1542242481796, userAgent='\"Mozilla/5.0 (X11; Linux x86_64) AppleWebKit/537.36 (KHTML, like Gecko) Ubuntu Chromium/36.0.1985.125 Chrome/36.0.1985.125 Safari/537.36\"', userId='26', timestamp=None), Row(artist='Train', auth='Logged In', firstName='Ryan', gender='M', itemInSession=2, lastName='Smith', length=205.45261, level='free', location='San Jose-Sunnyvale-Santa Clara, CA', method='PUT', page='NextSong', registration=1541016707796.0, sessionId=583, song='Marry Me', status=200, ts=1542242741796, userAgent='\"Mozilla/5.0 (X11; Linux x86_64) AppleWebKit/537.36 (KHTML, like Gecko) Ubuntu Chromium/36.0.1985.125 Chrome/36.0.1985.125 Safari/537.36\"', userId='26', timestamp=None), Row(artist='Sony Wonder', auth='Logged In', firstName='Samuel', gender='M', itemInSession=0, lastName='Gonzalez', length=218.06975, level='free', location='Houston-The Woodlands-Sugar Land, TX', method='PUT', page='NextSong', registration=1540492941796.0, sessionId=597, song='Blackbird', status=200, ts=1542253449796, userAgent='\"Mozilla/5.0 (Macintosh; Intel Mac OS X 10_9_4) AppleWebKit/537.77.4 (KHTML, like Gecko) Version/7.0.5 Safari/537.77.4\"', userId='61', timestamp=None), Row(artist='Van Halen', auth='Logged In', firstName='Tegan', gender='F', itemInSession=2, lastName='Levine', length=289.38404, level='paid', location='Portland-South Portland, ME', method='PUT', page='NextSong', registration=1540794356796.0, sessionId=602, song='Best Of Both Worlds (Remastered Album Version)', status=200, ts=1542260935796, userAgent='\"Mozilla/5.0 (Macintosh; Intel Mac OS X 10_9_4) AppleWebKit/537.36 (KHTML, like Gecko) Chrome/36.0.1985.143 Safari/537.36\"', userId='80', timestamp=None)]"
     ]
    }
   ],
   "source": [
    "df.head(5)"
   ]
  },
  {
   "cell_type": "code",
   "execution_count": 29,
   "id": "0d1f22e9-87ac-4d30-8bde-9afbee567efe",
   "metadata": {
    "execution": {
     "iopub.execute_input": "2022-05-23T18:45:17.393845Z",
     "iopub.status.busy": "2022-05-23T18:45:17.393579Z",
     "iopub.status.idle": "2022-05-23T18:45:17.554086Z",
     "shell.execute_reply": "2022-05-23T18:45:17.553254Z",
     "shell.execute_reply.started": "2022-05-23T18:45:17.393816Z"
    },
    "tags": []
   },
   "outputs": [
    {
     "data": {
      "application/vnd.jupyter.widget-view+json": {
       "model_id": "c3f9a1cabdcf4252925a3cbbc225af82",
       "version_major": 2,
       "version_minor": 0
      },
      "text/plain": [
       "VBox()"
      ]
     },
     "metadata": {},
     "output_type": "display_data"
    },
    {
     "data": {
      "application/vnd.jupyter.widget-view+json": {
       "model_id": "",
       "version_major": 2,
       "version_minor": 0
      },
      "text/plain": [
       "FloatProgress(value=0.0, bar_style='info', description='Progress:', layout=Layout(height='25px', width='50%'),…"
      ]
     },
     "metadata": {},
     "output_type": "display_data"
    }
   ],
   "source": [
    "get_datetime = udf(lambda x: datetime.fromtimestamp(x), Ts())\n",
    "df = df.withColumn('datetime', get_datetime(df.timestamp))\n",
    "    "
   ]
  },
  {
   "cell_type": "code",
   "execution_count": 31,
   "id": "a0af29d9-caff-4bdf-a94b-3cc5d6ad453b",
   "metadata": {
    "execution": {
     "iopub.execute_input": "2022-05-23T18:45:32.035466Z",
     "iopub.status.busy": "2022-05-23T18:45:32.034992Z",
     "iopub.status.idle": "2022-05-23T18:45:34.919922Z",
     "shell.execute_reply": "2022-05-23T18:45:34.919067Z",
     "shell.execute_reply.started": "2022-05-23T18:45:32.035216Z"
    },
    "tags": []
   },
   "outputs": [
    {
     "data": {
      "application/vnd.jupyter.widget-view+json": {
       "model_id": "27a8bed18b1145d9a9207cd5dedb4d56",
       "version_major": 2,
       "version_minor": 0
      },
      "text/plain": [
       "VBox()"
      ]
     },
     "metadata": {},
     "output_type": "display_data"
    },
    {
     "data": {
      "application/vnd.jupyter.widget-view+json": {
       "model_id": "",
       "version_major": 2,
       "version_minor": 0
      },
      "text/plain": [
       "FloatProgress(value=0.0, bar_style='info', description='Progress:', layout=Layout(height='25px', width='50%'),…"
      ]
     },
     "metadata": {},
     "output_type": "display_data"
    },
    {
     "name": "stdout",
     "output_type": "stream",
     "text": [
      "[Row(artist='Harmonia', auth='Logged In', firstName='Ryan', gender='M', itemInSession=0, lastName='Smith', length=655.77751, level='free', location='San Jose-Sunnyvale-Santa Clara, CA', method='PUT', page='NextSong', registration=1541016707796.0, sessionId=583, song='Sehr kosmisch', status=200, ts=1542241826796, userAgent='\"Mozilla/5.0 (X11; Linux x86_64) AppleWebKit/537.36 (KHTML, like Gecko) Ubuntu Chromium/36.0.1985.125 Chrome/36.0.1985.125 Safari/537.36\"', userId='26', timestamp=None, datetime=datetime.datetime(2018, 11, 15, 0, 30, 26, 796000)), Row(artist='The Prodigy', auth='Logged In', firstName='Ryan', gender='M', itemInSession=1, lastName='Smith', length=260.07465, level='free', location='San Jose-Sunnyvale-Santa Clara, CA', method='PUT', page='NextSong', registration=1541016707796.0, sessionId=583, song='The Big Gundown', status=200, ts=1542242481796, userAgent='\"Mozilla/5.0 (X11; Linux x86_64) AppleWebKit/537.36 (KHTML, like Gecko) Ubuntu Chromium/36.0.1985.125 Chrome/36.0.1985.125 Safari/537.36\"', userId='26', timestamp=None, datetime=datetime.datetime(2018, 11, 15, 0, 41, 21, 796000)), Row(artist='Train', auth='Logged In', firstName='Ryan', gender='M', itemInSession=2, lastName='Smith', length=205.45261, level='free', location='San Jose-Sunnyvale-Santa Clara, CA', method='PUT', page='NextSong', registration=1541016707796.0, sessionId=583, song='Marry Me', status=200, ts=1542242741796, userAgent='\"Mozilla/5.0 (X11; Linux x86_64) AppleWebKit/537.36 (KHTML, like Gecko) Ubuntu Chromium/36.0.1985.125 Chrome/36.0.1985.125 Safari/537.36\"', userId='26', timestamp=None, datetime=datetime.datetime(2018, 11, 15, 0, 45, 41, 796000)), Row(artist='Sony Wonder', auth='Logged In', firstName='Samuel', gender='M', itemInSession=0, lastName='Gonzalez', length=218.06975, level='free', location='Houston-The Woodlands-Sugar Land, TX', method='PUT', page='NextSong', registration=1540492941796.0, sessionId=597, song='Blackbird', status=200, ts=1542253449796, userAgent='\"Mozilla/5.0 (Macintosh; Intel Mac OS X 10_9_4) AppleWebKit/537.77.4 (KHTML, like Gecko) Version/7.0.5 Safari/537.77.4\"', userId='61', timestamp=None, datetime=datetime.datetime(2018, 11, 15, 3, 44, 9, 796000)), Row(artist='Van Halen', auth='Logged In', firstName='Tegan', gender='F', itemInSession=2, lastName='Levine', length=289.38404, level='paid', location='Portland-South Portland, ME', method='PUT', page='NextSong', registration=1540794356796.0, sessionId=602, song='Best Of Both Worlds (Remastered Album Version)', status=200, ts=1542260935796, userAgent='\"Mozilla/5.0 (Macintosh; Intel Mac OS X 10_9_4) AppleWebKit/537.36 (KHTML, like Gecko) Chrome/36.0.1985.143 Safari/537.36\"', userId='80', timestamp=None, datetime=datetime.datetime(2018, 11, 15, 5, 48, 55, 796000))]"
     ]
    }
   ],
   "source": [
    "df.head(5)"
   ]
  },
  {
   "cell_type": "code",
   "execution_count": 32,
   "id": "d8103d43-b3dd-438f-94f1-24728fd595b5",
   "metadata": {
    "execution": {
     "iopub.execute_input": "2022-05-23T18:45:41.859602Z",
     "iopub.status.busy": "2022-05-23T18:45:41.859353Z",
     "iopub.status.idle": "2022-05-23T18:45:42.234325Z",
     "shell.execute_reply": "2022-05-23T18:45:42.233387Z",
     "shell.execute_reply.started": "2022-05-23T18:45:41.859574Z"
    },
    "tags": []
   },
   "outputs": [
    {
     "data": {
      "application/vnd.jupyter.widget-view+json": {
       "model_id": "5c085a4ce2b54f46a575e3e604218470",
       "version_major": 2,
       "version_minor": 0
      },
      "text/plain": [
       "VBox()"
      ]
     },
     "metadata": {},
     "output_type": "display_data"
    },
    {
     "data": {
      "application/vnd.jupyter.widget-view+json": {
       "model_id": "",
       "version_major": 2,
       "version_minor": 0
      },
      "text/plain": [
       "FloatProgress(value=0.0, bar_style='info', description='Progress:', layout=Layout(height='25px', width='50%'),…"
      ]
     },
     "metadata": {},
     "output_type": "display_data"
    }
   ],
   "source": [
    "# extract columns to create time table\n",
    "time_table = df.select(\n",
    "        col('datetime').alias('start_time'),\n",
    "        hour('datetime').alias('hour'),\n",
    "        dayofmonth('datetime').alias('day'),\n",
    "        weekofyear('datetime').alias('week'),\n",
    "        month('datetime').alias('month'),\n",
    "        year('datetime').alias('year'),\n",
    "        dayofweek('datetime').alias('weekday')\n",
    "    ).dropDuplicates()"
   ]
  },
  {
   "cell_type": "code",
   "execution_count": 33,
   "id": "a437435e-94a2-4c31-8ebd-9ee6687d4aa3",
   "metadata": {
    "execution": {
     "iopub.execute_input": "2022-05-23T18:45:44.694685Z",
     "iopub.status.busy": "2022-05-23T18:45:44.694429Z",
     "iopub.status.idle": "2022-05-23T18:45:44.843527Z",
     "shell.execute_reply": "2022-05-23T18:45:44.842723Z",
     "shell.execute_reply.started": "2022-05-23T18:45:44.694656Z"
    },
    "tags": []
   },
   "outputs": [
    {
     "data": {
      "application/vnd.jupyter.widget-view+json": {
       "model_id": "ccef1aba04984622852121b2cbcdea22",
       "version_major": 2,
       "version_minor": 0
      },
      "text/plain": [
       "VBox()"
      ]
     },
     "metadata": {},
     "output_type": "display_data"
    },
    {
     "data": {
      "application/vnd.jupyter.widget-view+json": {
       "model_id": "",
       "version_major": 2,
       "version_minor": 0
      },
      "text/plain": [
       "FloatProgress(value=0.0, bar_style='info', description='Progress:', layout=Layout(height='25px', width='50%'),…"
      ]
     },
     "metadata": {},
     "output_type": "display_data"
    },
    {
     "name": "stdout",
     "output_type": "stream",
     "text": [
      "'s3://udacity-scb-proj2/result/time'"
     ]
    }
   ],
   "source": [
    "path_tt = os.path.join(output_data, \"time\")\n",
    "path_tt"
   ]
  },
  {
   "cell_type": "code",
   "execution_count": 34,
   "id": "cadca639-d893-43d7-b949-9487688d866d",
   "metadata": {
    "execution": {
     "iopub.execute_input": "2022-05-23T18:45:47.337739Z",
     "iopub.status.busy": "2022-05-23T18:45:47.337491Z",
     "iopub.status.idle": "2022-05-23T18:45:48.272845Z",
     "shell.execute_reply": "2022-05-23T18:45:48.272053Z",
     "shell.execute_reply.started": "2022-05-23T18:45:47.337710Z"
    },
    "tags": []
   },
   "outputs": [
    {
     "data": {
      "application/vnd.jupyter.widget-view+json": {
       "model_id": "d958ba5c2cdb49afa48c93c3a13092ac",
       "version_major": 2,
       "version_minor": 0
      },
      "text/plain": [
       "VBox()"
      ]
     },
     "metadata": {},
     "output_type": "display_data"
    },
    {
     "data": {
      "application/vnd.jupyter.widget-view+json": {
       "model_id": "",
       "version_major": 2,
       "version_minor": 0
      },
      "text/plain": [
       "FloatProgress(value=0.0, bar_style='info', description='Progress:', layout=Layout(height='25px', width='50%'),…"
      ]
     },
     "metadata": {},
     "output_type": "display_data"
    },
    {
     "name": "stderr",
     "output_type": "stream",
     "text": [
      "'path s3://udacity-scb-proj2/result/time already exists.;'\n",
      "Traceback (most recent call last):\n",
      "  File \"/usr/lib/spark/python/lib/pyspark.zip/pyspark/sql/readwriter.py\", line 841, in parquet\n",
      "    self._jwrite.parquet(path)\n",
      "  File \"/usr/lib/spark/python/lib/py4j-0.10.7-src.zip/py4j/java_gateway.py\", line 1257, in __call__\n",
      "    answer, self.gateway_client, self.target_id, self.name)\n",
      "  File \"/usr/lib/spark/python/lib/pyspark.zip/pyspark/sql/utils.py\", line 69, in deco\n",
      "    raise AnalysisException(s.split(': ', 1)[1], stackTrace)\n",
      "pyspark.sql.utils.AnalysisException: 'path s3://udacity-scb-proj2/result/time already exists.;'\n",
      "\n"
     ]
    }
   ],
   "source": [
    "time_table.write.parquet(path_tt, partitionBy = [\"year\",\"month\"])"
   ]
  },
  {
   "cell_type": "code",
   "execution_count": 35,
   "id": "c1a547dd-69b3-43d3-b34c-a44614ddcfe4",
   "metadata": {
    "execution": {
     "iopub.execute_input": "2022-05-23T18:45:55.974827Z",
     "iopub.status.busy": "2022-05-23T18:45:55.974567Z",
     "iopub.status.idle": "2022-05-23T18:45:59.540131Z",
     "shell.execute_reply": "2022-05-23T18:45:59.539268Z",
     "shell.execute_reply.started": "2022-05-23T18:45:55.974797Z"
    },
    "tags": []
   },
   "outputs": [
    {
     "data": {
      "application/vnd.jupyter.widget-view+json": {
       "model_id": "95ff6b80e18d4c1cab4e611f1b5334ff",
       "version_major": 2,
       "version_minor": 0
      },
      "text/plain": [
       "VBox()"
      ]
     },
     "metadata": {},
     "output_type": "display_data"
    },
    {
     "data": {
      "application/vnd.jupyter.widget-view+json": {
       "model_id": "",
       "version_major": 2,
       "version_minor": 0
      },
      "text/plain": [
       "FloatProgress(value=0.0, bar_style='info', description='Progress:', layout=Layout(height='25px', width='50%'),…"
      ]
     },
     "metadata": {},
     "output_type": "display_data"
    },
    {
     "name": "stdout",
     "output_type": "stream",
     "text": [
      "[Row(start_time=datetime.datetime(2018, 11, 15, 14, 9, 23, 796000), hour=14, day=15, week=46, month=11, year=2018, weekday=5), Row(start_time=datetime.datetime(2018, 11, 15, 15, 24, 7, 796000), hour=15, day=15, week=46, month=11, year=2018, weekday=5), Row(start_time=datetime.datetime(2018, 11, 15, 16, 31, 27, 796000), hour=16, day=15, week=46, month=11, year=2018, weekday=5), Row(start_time=datetime.datetime(2018, 11, 15, 19, 22, 32, 796000), hour=19, day=15, week=46, month=11, year=2018, weekday=5), Row(start_time=datetime.datetime(2018, 11, 21, 17, 40, 8, 796000), hour=17, day=21, week=47, month=11, year=2018, weekday=4)]"
     ]
    }
   ],
   "source": [
    "time_table.head(5)"
   ]
  },
  {
   "cell_type": "code",
   "execution_count": 36,
   "id": "1c1dbe35-e7c9-441f-ae28-eb1b3e9bfae7",
   "metadata": {
    "execution": {
     "iopub.execute_input": "2022-05-23T18:46:04.248183Z",
     "iopub.status.busy": "2022-05-23T18:46:04.247926Z",
     "iopub.status.idle": "2022-05-23T18:48:49.699839Z",
     "shell.execute_reply": "2022-05-23T18:48:49.698963Z",
     "shell.execute_reply.started": "2022-05-23T18:46:04.248153Z"
    },
    "tags": []
   },
   "outputs": [
    {
     "data": {
      "application/vnd.jupyter.widget-view+json": {
       "model_id": "6295e686fab147ab87ca328ee1ae3d96",
       "version_major": 2,
       "version_minor": 0
      },
      "text/plain": [
       "VBox()"
      ]
     },
     "metadata": {},
     "output_type": "display_data"
    },
    {
     "data": {
      "application/vnd.jupyter.widget-view+json": {
       "model_id": "",
       "version_major": 2,
       "version_minor": 0
      },
      "text/plain": [
       "FloatProgress(value=0.0, bar_style='info', description='Progress:', layout=Layout(height='25px', width='50%'),…"
      ]
     },
     "metadata": {},
     "output_type": "display_data"
    }
   ],
   "source": [
    "# read in song data to use for songplays table\n",
    "song_df = spark.read.parquet(output_data+\"songs\")"
   ]
  },
  {
   "cell_type": "code",
   "execution_count": 37,
   "id": "7af43fc3-c7c8-40cd-a363-bb3c59d6b13b",
   "metadata": {
    "execution": {
     "iopub.execute_input": "2022-05-23T18:48:58.343695Z",
     "iopub.status.busy": "2022-05-23T18:48:58.343384Z",
     "iopub.status.idle": "2022-05-23T18:49:00.930402Z",
     "shell.execute_reply": "2022-05-23T18:49:00.929564Z",
     "shell.execute_reply.started": "2022-05-23T18:48:58.343663Z"
    },
    "tags": []
   },
   "outputs": [
    {
     "data": {
      "application/vnd.jupyter.widget-view+json": {
       "model_id": "2e9e596663a6452b99f81da51b8a4e95",
       "version_major": 2,
       "version_minor": 0
      },
      "text/plain": [
       "VBox()"
      ]
     },
     "metadata": {},
     "output_type": "display_data"
    },
    {
     "data": {
      "application/vnd.jupyter.widget-view+json": {
       "model_id": "",
       "version_major": 2,
       "version_minor": 0
      },
      "text/plain": [
       "FloatProgress(value=0.0, bar_style='info', description='Progress:', layout=Layout(height='25px', width='50%'),…"
      ]
     },
     "metadata": {},
     "output_type": "display_data"
    },
    {
     "name": "stdout",
     "output_type": "stream",
     "text": [
      "[Row(song_id='SODUMDU12AC468A22B', title=\"We're Skrewed (Otto Von Schirach My Supernatural Motorcycle Gang Will Knife U Open Piss & Shit All Over Your Organic Starbucks =iPhone Bank Account Lifeless Lifestyle Remix)\", duration=249.5473, year=0, artist_id='ARHOSMU1242078130D'), Row(song_id='SOTCIHX12A8C13DDD2', title='Finally_ as that blazing sun shone down upon us_ did we know that true enemy was the voice of blind idolatry; and only then did we begin to think for ourselves.', duration=483.34322, year=2006, artist_id='ARYOIZG1187FB41E30'), Row(song_id='SOPSXLI12A6D4FA418', title='Practical Cats - An entertainment for speaker and orchestra (1954) (1998 Digital Remaster): Old Deuteronomy (Andante teneramente)', duration=251.03628, year=0, artist_id='ARR79V31187FB5B96E'), Row(song_id='SOUFBFK12A8C13D668', title=\"String Quartets Op. 74 (Hob. III: 72-74)  'Apponyi'_ String Quartet in C major Op. 74 No. 1: III.     Menuetto (Allegretto)\", duration=348.60363, year=0, artist_id='ARAILTA11F4C840A06'), Row(song_id='SOROAMT12A8C13C6D0', title='Me gustan mas los perros que los hombres (con Fernando Madina de Reincidentes_ Gerardo de Vantroi y Txus de Disidencia)', duration=101.85098, year=2008, artist_id='ARWUDTF1187B9AA096')]"
     ]
    }
   ],
   "source": [
    "readwritersong_df.head(5)"
   ]
  },
  {
   "cell_type": "code",
   "execution_count": 39,
   "id": "b5b9c3b6-fe2b-43ce-bbd8-58080f8f1545",
   "metadata": {
    "execution": {
     "iopub.execute_input": "2022-05-23T18:49:27.499923Z",
     "iopub.status.busy": "2022-05-23T18:49:27.499660Z",
     "iopub.status.idle": "2022-05-23T18:49:27.655712Z",
     "shell.execute_reply": "2022-05-23T18:49:27.655021Z",
     "shell.execute_reply.started": "2022-05-23T18:49:27.499893Z"
    },
    "tags": []
   },
   "outputs": [
    {
     "data": {
      "application/vnd.jupyter.widget-view+json": {
       "model_id": "a37686565d844915819d53097ac332ff",
       "version_major": 2,
       "version_minor": 0
      },
      "text/plain": [
       "VBox()"
      ]
     },
     "metadata": {},
     "output_type": "display_data"
    },
    {
     "data": {
      "application/vnd.jupyter.widget-view+json": {
       "model_id": "",
       "version_major": 2,
       "version_minor": 0
      },
      "text/plain": [
       "FloatProgress(value=0.0, bar_style='info', description='Progress:', layout=Layout(height='25px', width='50%'),…"
      ]
     },
     "metadata": {},
     "output_type": "display_data"
    }
   ],
   "source": [
    "df = df.join(song_df, song_df.title == df.song)"
   ]
  },
  {
   "cell_type": "code",
   "execution_count": 40,
   "id": "8ca3506b-62e1-4a90-9152-f8899eeed7b5",
   "metadata": {
    "execution": {
     "iopub.execute_input": "2022-05-23T18:49:34.635311Z",
     "iopub.status.busy": "2022-05-23T18:49:34.635052Z",
     "iopub.status.idle": "2022-05-23T18:50:08.782278Z",
     "shell.execute_reply": "2022-05-23T18:50:08.781639Z",
     "shell.execute_reply.started": "2022-05-23T18:49:34.635281Z"
    },
    "tags": []
   },
   "outputs": [
    {
     "data": {
      "application/vnd.jupyter.widget-view+json": {
       "model_id": "13ceba512a2145328a6789d9d6b0d5e2",
       "version_major": 2,
       "version_minor": 0
      },
      "text/plain": [
       "VBox()"
      ]
     },
     "metadata": {},
     "output_type": "display_data"
    },
    {
     "data": {
      "application/vnd.jupyter.widget-view+json": {
       "model_id": "",
       "version_major": 2,
       "version_minor": 0
      },
      "text/plain": [
       "FloatProgress(value=0.0, bar_style='info', description='Progress:', layout=Layout(height='25px', width='50%'),…"
      ]
     },
     "metadata": {},
     "output_type": "display_data"
    },
    {
     "name": "stdout",
     "output_type": "stream",
     "text": [
      "[Row(artist='Lionel Rogg', auth='Logged In', firstName='Mohammad', gender='M', itemInSession=13, lastName='Rodriguez', length=172.38159, level='paid', location='Sacramento--Roseville--Arden-Arcade, CA', method='PUT', page='NextSong', registration=1540511766796.0, sessionId=744, song='Die Kunst der Fuge_ BWV 1080 (2007 Digital Remaster): Contrapunctus XVII - Inversus', status=200, ts=1542788743796, userAgent='\"Mozilla/5.0 (Macintosh; Intel Mac OS X 10_9_4) AppleWebKit/537.36 (KHTML, like Gecko) Chrome/36.0.1985.143 Safari/537.36\"', userId='88', timestamp=None, datetime=datetime.datetime(2018, 11, 21, 8, 25, 43, 796000), song_id='SOCHPTV12A6BD53113', title='Die Kunst der Fuge_ BWV 1080 (2007 Digital Remaster): Contrapunctus XVII - Inversus', duration=172.38159, year=0, artist_id='ARN8NCB1187FB49652'), Row(artist='MC Lars', auth='Logged In', firstName='Layla', gender='F', itemInSession=81, lastName='Griffin', length=222.87628, level='paid', location='Lake Havasu City-Kingman, AZ', method='PUT', page='NextSong', registration=1541057188796.0, sessionId=984, song=\"It's Not Easy (Being Green) (Featuring Pierre Bouvier Of Simple Plan)\", status=200, ts=1543448083796, userAgent='\"Mozilla/5.0 (Windows NT 6.1; WOW64) AppleWebKit/537.36 (KHTML, like Gecko) Chrome/36.0.1985.125 Safari/537.36\"', userId='24', timestamp=None, datetime=datetime.datetime(2018, 11, 28, 23, 34, 43, 796000), song_id='SOHRHCN12AB018B0F4', title=\"It's Not Easy (Being Green) (Featuring Pierre Bouvier Of Simple Plan)\", duration=222.87628, year=2009, artist_id='ARHQBRZ1187FB3BDA2'), Row(artist='Luis Miguel', auth='Logged In', firstName='Emily', gender='F', itemInSession=20, lastName='Benson', length=256.13016, level='paid', location='Augusta-Richmond County, GA-SC', method='PUT', page='NextSong', registration=1540907087796.0, sessionId=887, song='Suena (\"Some Day\" end title song \"The Hunchback of Notre Dame\")', status=200, ts=1543393137796, userAgent='\"Mozilla/5.0 (Windows NT 6.3; WOW64) AppleWebKit/537.36 (KHTML, like Gecko) Chrome/36.0.1985.125 Safari/537.36\"', userId='58', timestamp=None, datetime=datetime.datetime(2018, 11, 28, 8, 18, 57, 796000), song_id='SOJWCWM12A8C13B664', title='Suena (\"Some Day\" end title song \"The Hunchback of Notre Dame\")', duration=256.13016, year=1996, artist_id='ARM6T8I1187FB36CC8'), Row(artist='Lupe Fiasco feat. Matthew Santos', auth='Logged In', firstName='Chloe', gender='F', itemInSession=47, lastName='Cuevas', length=213.34159, level='paid', location='San Francisco-Oakland-Hayward, CA', method='PUT', page='NextSong', registration=1540940782796.0, sessionId=1041, song='Fighters (feat. Matthew Santos) (Amended Album Version)', status=200, ts=1543510681796, userAgent='Mozilla/5.0 (Windows NT 5.1; rv:31.0) Gecko/20100101 Firefox/31.0', userId='49', timestamp=None, datetime=datetime.datetime(2018, 11, 29, 16, 58, 1, 796000), song_id='SOGXSWA12A6D4FBC99', title='Fighters (feat. Matthew Santos) (Amended Album Version)', duration=213.34159, year=0, artist_id='ARPFHN61187FB575F6'), Row(artist='Hellogoodbye', auth='Logged In', firstName='Mohammad', gender='M', itemInSession=49, lastName='Rodriguez', length=193.93261, level='paid', location='Sacramento--Roseville--Arden-Arcade, CA', method='PUT', page='NextSong', registration=1540511766796.0, sessionId=900, song='Shimmy Shimmy Quarter Turn (Take It Back To Square One)', status=200, ts=1543246634796, userAgent='\"Mozilla/5.0 (Macintosh; Intel Mac OS X 10_9_4) AppleWebKit/537.36 (KHTML, like Gecko) Chrome/36.0.1985.143 Safari/537.36\"', userId='88', timestamp=None, datetime=datetime.datetime(2018, 11, 26, 15, 37, 14, 796000), song_id='SOARTQC12A58A77F0C', title='Shimmy Shimmy Quarter Turn (Take It Back To Square One)', duration=193.93261, year=2004, artist_id='ARCE0IX1187FB528B4')]"
     ]
    }
   ],
   "source": [
    "df.head(5)"
   ]
  },
  {
   "cell_type": "code",
   "execution_count": 46,
   "id": "3c083aa4-0e0a-48fc-a7fe-4faecdd03d94",
   "metadata": {
    "execution": {
     "iopub.execute_input": "2022-05-23T18:53:25.827972Z",
     "iopub.status.busy": "2022-05-23T18:53:25.827722Z",
     "iopub.status.idle": "2022-05-23T18:53:26.009766Z",
     "shell.execute_reply": "2022-05-23T18:53:25.965989Z",
     "shell.execute_reply.started": "2022-05-23T18:53:25.827943Z"
    },
    "tags": []
   },
   "outputs": [
    {
     "data": {
      "application/vnd.jupyter.widget-view+json": {
       "model_id": "62d2eef0cb864e1d87cf7dd08c8d5bfa",
       "version_major": 2,
       "version_minor": 0
      },
      "text/plain": [
       "VBox()"
      ]
     },
     "metadata": {},
     "output_type": "display_data"
    },
    {
     "data": {
      "application/vnd.jupyter.widget-view+json": {
       "model_id": "",
       "version_major": 2,
       "version_minor": 0
      },
      "text/plain": [
       "FloatProgress(value=0.0, bar_style='info', description='Progress:', layout=Layout(height='25px', width='50%'),…"
      ]
     },
     "metadata": {},
     "output_type": "display_data"
    }
   ],
   "source": [
    "df = df.withColumn('songplay_id', monotonically_increasing_id())"
   ]
  },
  {
   "cell_type": "code",
   "execution_count": 62,
   "id": "f32e2bdc-58fe-48d5-a2b0-efb22a0b9702",
   "metadata": {
    "execution": {
     "iopub.execute_input": "2022-05-23T19:10:57.961936Z",
     "iopub.status.busy": "2022-05-23T19:10:57.961688Z",
     "iopub.status.idle": "2022-05-23T19:10:58.123358Z",
     "shell.execute_reply": "2022-05-23T19:10:58.122562Z",
     "shell.execute_reply.started": "2022-05-23T19:10:57.961907Z"
    },
    "tags": []
   },
   "outputs": [
    {
     "data": {
      "application/vnd.jupyter.widget-view+json": {
       "model_id": "713c0038cb3e445bb5c0be53d1c1c537",
       "version_major": 2,
       "version_minor": 0
      },
      "text/plain": [
       "VBox()"
      ]
     },
     "metadata": {},
     "output_type": "display_data"
    },
    {
     "data": {
      "application/vnd.jupyter.widget-view+json": {
       "model_id": "",
       "version_major": 2,
       "version_minor": 0
      },
      "text/plain": [
       "FloatProgress(value=0.0, bar_style='info', description='Progress:', layout=Layout(height='25px', width='50%'),…"
      ]
     },
     "metadata": {},
     "output_type": "display_data"
    }
   ],
   "source": [
    "df = df.withColumn(\"month\", month(df.datetime))"
   ]
  },
  {
   "cell_type": "code",
   "execution_count": 63,
   "id": "e5422db6-6714-4006-b8fd-7a28d83aaa20",
   "metadata": {
    "execution": {
     "iopub.execute_input": "2022-05-23T19:11:10.619491Z",
     "iopub.status.busy": "2022-05-23T19:11:10.619226Z",
     "iopub.status.idle": "2022-05-23T19:11:50.752520Z",
     "shell.execute_reply": "2022-05-23T19:11:50.751342Z",
     "shell.execute_reply.started": "2022-05-23T19:11:10.619461Z"
    },
    "tags": []
   },
   "outputs": [
    {
     "data": {
      "application/vnd.jupyter.widget-view+json": {
       "model_id": "4ea29a8f1d6744aa8e273b6500a067f0",
       "version_major": 2,
       "version_minor": 0
      },
      "text/plain": [
       "VBox()"
      ]
     },
     "metadata": {},
     "output_type": "display_data"
    },
    {
     "data": {
      "application/vnd.jupyter.widget-view+json": {
       "model_id": "",
       "version_major": 2,
       "version_minor": 0
      },
      "text/plain": [
       "FloatProgress(value=0.0, bar_style='info', description='Progress:', layout=Layout(height='25px', width='50%'),…"
      ]
     },
     "metadata": {},
     "output_type": "display_data"
    },
    {
     "name": "stdout",
     "output_type": "stream",
     "text": [
      "[Row(artist='Lionel Rogg', auth='Logged In', firstName='Mohammad', gender='M', itemInSession=13, lastName='Rodriguez', length=172.38159, level='paid', location='Sacramento--Roseville--Arden-Arcade, CA', method='PUT', page='NextSong', registration=1540511766796.0, sessionId=744, song='Die Kunst der Fuge_ BWV 1080 (2007 Digital Remaster): Contrapunctus XVII - Inversus', status=200, ts=1542788743796, userAgent='\"Mozilla/5.0 (Macintosh; Intel Mac OS X 10_9_4) AppleWebKit/537.36 (KHTML, like Gecko) Chrome/36.0.1985.143 Safari/537.36\"', userId='88', timestamp=None, datetime=datetime.datetime(2018, 11, 21, 8, 25, 43, 796000), song_id='SOCHPTV12A6BD53113', title='Die Kunst der Fuge_ BWV 1080 (2007 Digital Remaster): Contrapunctus XVII - Inversus', duration=172.38159, year=0, artist_id='ARN8NCB1187FB49652', songplay_id=0, month=11), Row(artist='MC Lars', auth='Logged In', firstName='Layla', gender='F', itemInSession=81, lastName='Griffin', length=222.87628, level='paid', location='Lake Havasu City-Kingman, AZ', method='PUT', page='NextSong', registration=1541057188796.0, sessionId=984, song=\"It's Not Easy (Being Green) (Featuring Pierre Bouvier Of Simple Plan)\", status=200, ts=1543448083796, userAgent='\"Mozilla/5.0 (Windows NT 6.1; WOW64) AppleWebKit/537.36 (KHTML, like Gecko) Chrome/36.0.1985.125 Safari/537.36\"', userId='24', timestamp=None, datetime=datetime.datetime(2018, 11, 28, 23, 34, 43, 796000), song_id='SOHRHCN12AB018B0F4', title=\"It's Not Easy (Being Green) (Featuring Pierre Bouvier Of Simple Plan)\", duration=222.87628, year=2009, artist_id='ARHQBRZ1187FB3BDA2', songplay_id=17179869184, month=11)]"
     ]
    }
   ],
   "source": [
    "df.head(2)"
   ]
  },
  {
   "cell_type": "code",
   "execution_count": 64,
   "id": "a327f697-a0fa-4e6e-b7a2-d17a17be5c17",
   "metadata": {
    "execution": {
     "iopub.execute_input": "2022-05-23T19:12:00.299254Z",
     "iopub.status.busy": "2022-05-23T19:12:00.298858Z",
     "iopub.status.idle": "2022-05-23T19:12:00.689614Z",
     "shell.execute_reply": "2022-05-23T19:12:00.686979Z",
     "shell.execute_reply.started": "2022-05-23T19:12:00.299222Z"
    },
    "tags": []
   },
   "outputs": [
    {
     "data": {
      "application/vnd.jupyter.widget-view+json": {
       "model_id": "63edf6c9ba484e62bda6c33597ffa807",
       "version_major": 2,
       "version_minor": 0
      },
      "text/plain": [
       "VBox()"
      ]
     },
     "metadata": {},
     "output_type": "display_data"
    },
    {
     "data": {
      "application/vnd.jupyter.widget-view+json": {
       "model_id": "",
       "version_major": 2,
       "version_minor": 0
      },
      "text/plain": [
       "FloatProgress(value=0.0, bar_style='info', description='Progress:', layout=Layout(height='25px', width='50%'),…"
      ]
     },
     "metadata": {},
     "output_type": "display_data"
    }
   ],
   "source": [
    "songplays_table = df['songplay_id', 'year', 'month', 'userId','level', \\\n",
    "                      'song_id', 'artist_id', 'sessionId', 'location', 'userAgent']"
   ]
  },
  {
   "cell_type": "code",
   "execution_count": 66,
   "id": "5ed34e63-33c2-4ce3-bffc-d74d45a01d0c",
   "metadata": {
    "execution": {
     "iopub.execute_input": "2022-05-23T19:12:53.519149Z",
     "iopub.status.busy": "2022-05-23T19:12:53.518904Z",
     "iopub.status.idle": "2022-05-23T19:13:15.455797Z",
     "shell.execute_reply": "2022-05-23T19:13:15.454857Z",
     "shell.execute_reply.started": "2022-05-23T19:12:53.519121Z"
    },
    "tags": []
   },
   "outputs": [
    {
     "data": {
      "application/vnd.jupyter.widget-view+json": {
       "model_id": "8af448af9e414eeeb7c85ccd8518fc23",
       "version_major": 2,
       "version_minor": 0
      },
      "text/plain": [
       "VBox()"
      ]
     },
     "metadata": {},
     "output_type": "display_data"
    },
    {
     "data": {
      "application/vnd.jupyter.widget-view+json": {
       "model_id": "",
       "version_major": 2,
       "version_minor": 0
      },
      "text/plain": [
       "FloatProgress(value=0.0, bar_style='info', description='Progress:', layout=Layout(height='25px', width='50%'),…"
      ]
     },
     "metadata": {},
     "output_type": "display_data"
    },
    {
     "name": "stdout",
     "output_type": "stream",
     "text": [
      "[Row(songplay_id=0, year=0, month=11, userId='88', level='paid', song_id='SOCHPTV12A6BD53113', artist_id='ARN8NCB1187FB49652', sessionId=744, location='Sacramento--Roseville--Arden-Arcade, CA', userAgent='\"Mozilla/5.0 (Macintosh; Intel Mac OS X 10_9_4) AppleWebKit/537.36 (KHTML, like Gecko) Chrome/36.0.1985.143 Safari/537.36\"'), Row(songplay_id=17179869184, year=2009, month=11, userId='24', level='paid', song_id='SOHRHCN12AB018B0F4', artist_id='ARHQBRZ1187FB3BDA2', sessionId=984, location='Lake Havasu City-Kingman, AZ', userAgent='\"Mozilla/5.0 (Windows NT 6.1; WOW64) AppleWebKit/537.36 (KHTML, like Gecko) Chrome/36.0.1985.125 Safari/537.36\"')]"
     ]
    }
   ],
   "source": [
    "songplays_table.head(2)"
   ]
  },
  {
   "cell_type": "code",
   "execution_count": 67,
   "id": "496e0bf3-922d-4e3b-9fcb-b8f31e69ceed",
   "metadata": {
    "execution": {
     "iopub.execute_input": "2022-05-23T19:13:18.721697Z",
     "iopub.status.busy": "2022-05-23T19:13:18.721442Z",
     "iopub.status.idle": "2022-05-23T19:13:18.925554Z",
     "shell.execute_reply": "2022-05-23T19:13:18.924857Z",
     "shell.execute_reply.started": "2022-05-23T19:13:18.721669Z"
    },
    "tags": []
   },
   "outputs": [
    {
     "data": {
      "application/vnd.jupyter.widget-view+json": {
       "model_id": "88fbc40c77634c43af1f177d5ba918aa",
       "version_major": 2,
       "version_minor": 0
      },
      "text/plain": [
       "VBox()"
      ]
     },
     "metadata": {},
     "output_type": "display_data"
    },
    {
     "data": {
      "application/vnd.jupyter.widget-view+json": {
       "model_id": "",
       "version_major": 2,
       "version_minor": 0
      },
      "text/plain": [
       "FloatProgress(value=0.0, bar_style='info', description='Progress:', layout=Layout(height='25px', width='50%'),…"
      ]
     },
     "metadata": {},
     "output_type": "display_data"
    }
   ],
   "source": [
    "path_songplays = os.path.join(output_data, 'songplays')"
   ]
  },
  {
   "cell_type": "code",
   "execution_count": 68,
   "id": "743603c1-08a8-4f85-9e6b-d269275ff407",
   "metadata": {
    "execution": {
     "iopub.execute_input": "2022-05-23T19:13:20.246697Z",
     "iopub.status.busy": "2022-05-23T19:13:20.246435Z",
     "iopub.status.idle": "2022-05-23T19:13:20.431738Z",
     "shell.execute_reply": "2022-05-23T19:13:20.430979Z",
     "shell.execute_reply.started": "2022-05-23T19:13:20.246667Z"
    },
    "tags": []
   },
   "outputs": [
    {
     "data": {
      "application/vnd.jupyter.widget-view+json": {
       "model_id": "1323729e077c4272b63b1c1cad5a3c46",
       "version_major": 2,
       "version_minor": 0
      },
      "text/plain": [
       "VBox()"
      ]
     },
     "metadata": {},
     "output_type": "display_data"
    },
    {
     "data": {
      "application/vnd.jupyter.widget-view+json": {
       "model_id": "",
       "version_major": 2,
       "version_minor": 0
      },
      "text/plain": [
       "FloatProgress(value=0.0, bar_style='info', description='Progress:', layout=Layout(height='25px', width='50%'),…"
      ]
     },
     "metadata": {},
     "output_type": "display_data"
    },
    {
     "name": "stdout",
     "output_type": "stream",
     "text": [
      "'s3://udacity-scb-proj2/result/songplays'"
     ]
    }
   ],
   "source": [
    "path_songplays"
   ]
  },
  {
   "cell_type": "code",
   "execution_count": null,
   "id": "a54a613b-f2a1-43a7-aec3-193e1c04832e",
   "metadata": {
    "execution": {
     "iopub.execute_input": "2022-05-23T19:13:22.225478Z",
     "iopub.status.busy": "2022-05-23T19:13:22.225198Z"
    },
    "tags": []
   },
   "outputs": [
    {
     "data": {
      "application/vnd.jupyter.widget-view+json": {
       "model_id": "a8efdfe82a04432080ca9e46f563b193",
       "version_major": 2,
       "version_minor": 0
      },
      "text/plain": [
       "VBox()"
      ]
     },
     "metadata": {},
     "output_type": "display_data"
    },
    {
     "data": {
      "application/vnd.jupyter.widget-view+json": {
       "model_id": "22620c09da814f03b46d206f086f651e",
       "version_major": 2,
       "version_minor": 0
      },
      "text/plain": [
       "FloatProgress(value=0.0, bar_style='info', description='Progress:', layout=Layout(height='25px', width='50%'),…"
      ]
     },
     "metadata": {},
     "output_type": "display_data"
    }
   ],
   "source": [
    "songplays_table.write.parquet(path_songplays, partitionBy=[\"year\",\"month\"])\n"
   ]
  },
  {
   "cell_type": "code",
   "execution_count": null,
   "id": "5ddafc99-e542-42c5-a3a7-75a48dd496d2",
   "metadata": {},
   "outputs": [],
   "source": []
  }
 ],
 "metadata": {
  "kernelspec": {
   "display_name": "PySpark",
   "language": "",
   "name": "pysparkkernel"
  },
  "language_info": {
   "codemirror_mode": {
    "name": "python",
    "version": 2
   },
   "mimetype": "text/x-python",
   "name": "pyspark",
   "pygments_lexer": "python2"
  }
 },
 "nbformat": 4,
 "nbformat_minor": 5
}
